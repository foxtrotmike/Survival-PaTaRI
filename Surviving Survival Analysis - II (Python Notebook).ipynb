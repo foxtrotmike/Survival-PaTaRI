{
  "nbformat": 4,
  "nbformat_minor": 5,
  "metadata": {
    "kernelspec": {
      "display_name": "py38",
      "language": "python",
      "name": "py38"
    },
    "language_info": {
      "codemirror_mode": {
        "name": "ipython",
        "version": 3
      },
      "file_extension": ".py",
      "mimetype": "text/x-python",
      "name": "python",
      "nbconvert_exporter": "python",
      "pygments_lexer": "ipython3",
      "version": "3.8.0"
    },
    "colab": {
      "name": "Surviving Survival Analysis - II (Python Notebook).ipynb",
      "provenance": [],
      "collapsed_sections": [],
      "include_colab_link": true
    }
  },
  "cells": [
    {
      "cell_type": "markdown",
      "metadata": {
        "id": "view-in-github",
        "colab_type": "text"
      },
      "source": [
        "<a href=\"https://colab.research.google.com/github/foxtrotmike/Survival-PaTaRI/blob/main/Surviving%20Survival%20Analysis%20-%20II%20(Python%20Notebook).ipynb\" target=\"_parent\"><img src=\"https://colab.research.google.com/assets/colab-badge.svg\" alt=\"Open In Colab\"/></a>"
      ]
    },
    {
      "cell_type": "markdown",
      "metadata": {
        "id": "28f66e72"
      },
      "source": [
        "# Surviving Survival Analysis - II"
      ],
      "id": "28f66e72"
    },
    {
      "cell_type": "markdown",
      "metadata": {
        "id": "fb927534"
      },
      "source": [
        "# by"
      ],
      "id": "fb927534"
    },
    {
      "cell_type": "markdown",
      "metadata": {
        "id": "1156276c"
      },
      "source": [
        "# Papers, Thoughts and Research Insights (PaTaRI)    -- TIA Centre"
      ],
      "id": "1156276c"
    },
    {
      "cell_type": "markdown",
      "metadata": {
        "id": "256a6383"
      },
      "source": [
        "From this notebook, you can learn\n",
        "\n",
        "(1) how to use Random survival forest and do performance eval on simulated data.\n",
        "\n",
        "(2) how to use regression coefficients of the fitted model to predict the risk score which can be used as a new feature for patient stratification\n",
        "\n",
        "(3) how to use Survival SVM and do performance eval on simulated data."
      ],
      "id": "256a6383"
    },
    {
      "cell_type": "code",
      "metadata": {
        "colab": {
          "base_uri": "https://localhost:8080/"
        },
        "id": "seqRlFg3Mo0a",
        "outputId": "255049e2-6e45-4d23-ac04-de26b30deb4c"
      },
      "source": [
        "from google.colab import drive\n",
        "drive.mount('/content/gdrive')"
      ],
      "id": "seqRlFg3Mo0a",
      "execution_count": null,
      "outputs": [
        {
          "output_type": "stream",
          "text": [
            "Drive already mounted at /content/gdrive; to attempt to forcibly remount, call drive.mount(\"/content/gdrive\", force_remount=True).\n"
          ],
          "name": "stdout"
        }
      ]
    },
    {
      "cell_type": "markdown",
      "metadata": {
        "id": "Eo9CzTz9Owtl"
      },
      "source": [
        "# Loading Data"
      ],
      "id": "Eo9CzTz9Owtl"
    },
    {
      "cell_type": "code",
      "metadata": {
        "id": "cCY0YGgBNdUU"
      },
      "source": [
        "# Load the dataset into a Pandas dataframe\n",
        "import os\n",
        "import pandas as pd\n",
        "data_dir = os.path.join('/content', 'gdrive', 'My Drive', 'Colab Notebooks', 'survival_analysis')\n",
        "dataset_path = os.path.join(data_dir, 'example_dataset.csv')\n",
        "dataset = pd.read_csv(dataset_path)"
      ],
      "id": "cCY0YGgBNdUU",
      "execution_count": null,
      "outputs": []
    },
    {
      "cell_type": "code",
      "metadata": {
        "id": "1ca64ebb",
        "colab": {
          "base_uri": "https://localhost:8080/",
          "height": 417
        },
        "outputId": "94e239a2-845e-4a9e-f6aa-a6a1afd3c206"
      },
      "source": [
        "dataset"
      ],
      "id": "1ca64ebb",
      "execution_count": null,
      "outputs": [
        {
          "output_type": "execute_result",
          "data": {
            "text/html": [
              "<div>\n",
              "<style scoped>\n",
              "    .dataframe tbody tr th:only-of-type {\n",
              "        vertical-align: middle;\n",
              "    }\n",
              "\n",
              "    .dataframe tbody tr th {\n",
              "        vertical-align: top;\n",
              "    }\n",
              "\n",
              "    .dataframe thead th {\n",
              "        text-align: right;\n",
              "    }\n",
              "</style>\n",
              "<table border=\"1\" class=\"dataframe\">\n",
              "  <thead>\n",
              "    <tr style=\"text-align: right;\">\n",
              "      <th></th>\n",
              "      <th>x_1</th>\n",
              "      <th>x_2</th>\n",
              "      <th>x_3</th>\n",
              "      <th>x_4</th>\n",
              "      <th>x_5</th>\n",
              "      <th>x_6</th>\n",
              "      <th>x_7</th>\n",
              "      <th>x_8</th>\n",
              "      <th>x_9</th>\n",
              "      <th>x_10</th>\n",
              "      <th>time</th>\n",
              "      <th>event</th>\n",
              "    </tr>\n",
              "  </thead>\n",
              "  <tbody>\n",
              "    <tr>\n",
              "      <th>0</th>\n",
              "      <td>1.475876</td>\n",
              "      <td>-1.776096</td>\n",
              "      <td>4.915642</td>\n",
              "      <td>122.0</td>\n",
              "      <td>98.094698</td>\n",
              "      <td>5.972386</td>\n",
              "      <td>1.660803</td>\n",
              "      <td>-1.864064</td>\n",
              "      <td>118.0</td>\n",
              "      <td>7.660347</td>\n",
              "      <td>0.000000</td>\n",
              "      <td>0.0</td>\n",
              "    </tr>\n",
              "    <tr>\n",
              "      <th>1</th>\n",
              "      <td>6.962669</td>\n",
              "      <td>-1.252591</td>\n",
              "      <td>19.444990</td>\n",
              "      <td>111.0</td>\n",
              "      <td>-8.769640</td>\n",
              "      <td>8.096565</td>\n",
              "      <td>23.921275</td>\n",
              "      <td>-0.451359</td>\n",
              "      <td>131.0</td>\n",
              "      <td>-1.836969</td>\n",
              "      <td>0.000000</td>\n",
              "      <td>0.0</td>\n",
              "    </tr>\n",
              "    <tr>\n",
              "      <th>2</th>\n",
              "      <td>4.974584</td>\n",
              "      <td>-1.443488</td>\n",
              "      <td>-2.923769</td>\n",
              "      <td>109.0</td>\n",
              "      <td>69.898629</td>\n",
              "      <td>5.883239</td>\n",
              "      <td>11.301937</td>\n",
              "      <td>-3.209809</td>\n",
              "      <td>132.0</td>\n",
              "      <td>0.825555</td>\n",
              "      <td>2.149633</td>\n",
              "      <td>1.0</td>\n",
              "    </tr>\n",
              "    <tr>\n",
              "      <th>3</th>\n",
              "      <td>6.565848</td>\n",
              "      <td>-0.209302</td>\n",
              "      <td>15.752279</td>\n",
              "      <td>118.0</td>\n",
              "      <td>-9.126213</td>\n",
              "      <td>7.206371</td>\n",
              "      <td>15.295552</td>\n",
              "      <td>-1.707323</td>\n",
              "      <td>117.0</td>\n",
              "      <td>2.551161</td>\n",
              "      <td>1.311286</td>\n",
              "      <td>1.0</td>\n",
              "    </tr>\n",
              "    <tr>\n",
              "      <th>4</th>\n",
              "      <td>8.185607</td>\n",
              "      <td>0.997027</td>\n",
              "      <td>8.567676</td>\n",
              "      <td>119.0</td>\n",
              "      <td>24.094598</td>\n",
              "      <td>7.853565</td>\n",
              "      <td>12.516080</td>\n",
              "      <td>-0.047749</td>\n",
              "      <td>127.0</td>\n",
              "      <td>6.001835</td>\n",
              "      <td>0.215496</td>\n",
              "      <td>1.0</td>\n",
              "    </tr>\n",
              "    <tr>\n",
              "      <th>...</th>\n",
              "      <td>...</td>\n",
              "      <td>...</td>\n",
              "      <td>...</td>\n",
              "      <td>...</td>\n",
              "      <td>...</td>\n",
              "      <td>...</td>\n",
              "      <td>...</td>\n",
              "      <td>...</td>\n",
              "      <td>...</td>\n",
              "      <td>...</td>\n",
              "      <td>...</td>\n",
              "      <td>...</td>\n",
              "    </tr>\n",
              "    <tr>\n",
              "      <th>995</th>\n",
              "      <td>5.740516</td>\n",
              "      <td>0.687209</td>\n",
              "      <td>13.657878</td>\n",
              "      <td>110.0</td>\n",
              "      <td>76.031360</td>\n",
              "      <td>2.031302</td>\n",
              "      <td>17.613828</td>\n",
              "      <td>-0.716146</td>\n",
              "      <td>123.0</td>\n",
              "      <td>0.553241</td>\n",
              "      <td>0.000000</td>\n",
              "      <td>0.0</td>\n",
              "    </tr>\n",
              "    <tr>\n",
              "      <th>996</th>\n",
              "      <td>1.637833</td>\n",
              "      <td>-0.224637</td>\n",
              "      <td>22.426366</td>\n",
              "      <td>121.0</td>\n",
              "      <td>69.115131</td>\n",
              "      <td>7.563708</td>\n",
              "      <td>11.802899</td>\n",
              "      <td>-0.311101</td>\n",
              "      <td>107.0</td>\n",
              "      <td>5.578604</td>\n",
              "      <td>0.000000</td>\n",
              "      <td>0.0</td>\n",
              "    </tr>\n",
              "    <tr>\n",
              "      <th>997</th>\n",
              "      <td>6.441727</td>\n",
              "      <td>-1.003687</td>\n",
              "      <td>0.796903</td>\n",
              "      <td>129.0</td>\n",
              "      <td>47.684423</td>\n",
              "      <td>7.378485</td>\n",
              "      <td>9.815511</td>\n",
              "      <td>-2.160617</td>\n",
              "      <td>128.0</td>\n",
              "      <td>8.668370</td>\n",
              "      <td>0.000000</td>\n",
              "      <td>0.0</td>\n",
              "    </tr>\n",
              "    <tr>\n",
              "      <th>998</th>\n",
              "      <td>6.669404</td>\n",
              "      <td>0.326433</td>\n",
              "      <td>18.004485</td>\n",
              "      <td>121.0</td>\n",
              "      <td>-14.890240</td>\n",
              "      <td>-0.599931</td>\n",
              "      <td>6.783380</td>\n",
              "      <td>-3.588625</td>\n",
              "      <td>123.0</td>\n",
              "      <td>5.390423</td>\n",
              "      <td>1.893789</td>\n",
              "      <td>1.0</td>\n",
              "    </tr>\n",
              "    <tr>\n",
              "      <th>999</th>\n",
              "      <td>8.982881</td>\n",
              "      <td>-0.094194</td>\n",
              "      <td>-1.478926</td>\n",
              "      <td>120.0</td>\n",
              "      <td>-0.051001</td>\n",
              "      <td>7.140833</td>\n",
              "      <td>5.905208</td>\n",
              "      <td>-1.168450</td>\n",
              "      <td>114.0</td>\n",
              "      <td>8.695888</td>\n",
              "      <td>1.090172</td>\n",
              "      <td>1.0</td>\n",
              "    </tr>\n",
              "  </tbody>\n",
              "</table>\n",
              "<p>1000 rows × 12 columns</p>\n",
              "</div>"
            ],
            "text/plain": [
              "          x_1       x_2        x_3    x_4  ...    x_9      x_10      time  event\n",
              "0    1.475876 -1.776096   4.915642  122.0  ...  118.0  7.660347  0.000000    0.0\n",
              "1    6.962669 -1.252591  19.444990  111.0  ...  131.0 -1.836969  0.000000    0.0\n",
              "2    4.974584 -1.443488  -2.923769  109.0  ...  132.0  0.825555  2.149633    1.0\n",
              "3    6.565848 -0.209302  15.752279  118.0  ...  117.0  2.551161  1.311286    1.0\n",
              "4    8.185607  0.997027   8.567676  119.0  ...  127.0  6.001835  0.215496    1.0\n",
              "..        ...       ...        ...    ...  ...    ...       ...       ...    ...\n",
              "995  5.740516  0.687209  13.657878  110.0  ...  123.0  0.553241  0.000000    0.0\n",
              "996  1.637833 -0.224637  22.426366  121.0  ...  107.0  5.578604  0.000000    0.0\n",
              "997  6.441727 -1.003687   0.796903  129.0  ...  128.0  8.668370  0.000000    0.0\n",
              "998  6.669404  0.326433  18.004485  121.0  ...  123.0  5.390423  1.893789    1.0\n",
              "999  8.982881 -0.094194  -1.478926  120.0  ...  114.0  8.695888  1.090172    1.0\n",
              "\n",
              "[1000 rows x 12 columns]"
            ]
          },
          "metadata": {
            "tags": []
          },
          "execution_count": 4
        }
      ]
    },
    {
      "cell_type": "code",
      "metadata": {
        "colab": {
          "base_uri": "https://localhost:8080/"
        },
        "id": "domAR4dok3GM",
        "outputId": "6b85b315-bd0f-4392-de41-0cb4f403d158"
      },
      "source": [
        "pip install pysurvival"
      ],
      "id": "domAR4dok3GM",
      "execution_count": null,
      "outputs": [
        {
          "output_type": "stream",
          "text": [
            "Collecting pysurvival\n",
            "\u001b[?25l  Downloading https://files.pythonhosted.org/packages/13/dd/d7bf69b6e1e0d1cd243b39577867c15d092404d5bc7afef3ae135b50717f/pysurvival-0.1.2.tar.gz (4.7MB)\n",
            "\u001b[K     |████████████████████████████████| 4.8MB 4.4MB/s \n",
            "\u001b[?25hRequirement already satisfied: matplotlib in /usr/local/lib/python3.7/dist-packages (from pysurvival) (3.2.2)\n",
            "Requirement already satisfied: numpy in /usr/local/lib/python3.7/dist-packages (from pysurvival) (1.19.5)\n",
            "Requirement already satisfied: pandas in /usr/local/lib/python3.7/dist-packages (from pysurvival) (1.1.5)\n",
            "Requirement already satisfied: pip in /usr/local/lib/python3.7/dist-packages (from pysurvival) (19.3.1)\n",
            "Collecting progressbar\n",
            "  Downloading https://files.pythonhosted.org/packages/a3/a6/b8e451f6cff1c99b4747a2f7235aa904d2d49e8e1464e0b798272aa84358/progressbar-2.5.tar.gz\n",
            "Requirement already satisfied: pyarrow in /usr/local/lib/python3.7/dist-packages (from pysurvival) (3.0.0)\n",
            "Requirement already satisfied: scikit-learn in /usr/local/lib/python3.7/dist-packages (from pysurvival) (0.22.2.post1)\n",
            "Requirement already satisfied: scipy in /usr/local/lib/python3.7/dist-packages (from pysurvival) (1.4.1)\n",
            "Requirement already satisfied: sklearn in /usr/local/lib/python3.7/dist-packages (from pysurvival) (0.0)\n",
            "Requirement already satisfied: torch in /usr/local/lib/python3.7/dist-packages (from pysurvival) (1.8.1+cu101)\n",
            "Requirement already satisfied: cycler>=0.10 in /usr/local/lib/python3.7/dist-packages (from matplotlib->pysurvival) (0.10.0)\n",
            "Requirement already satisfied: pyparsing!=2.0.4,!=2.1.2,!=2.1.6,>=2.0.1 in /usr/local/lib/python3.7/dist-packages (from matplotlib->pysurvival) (2.4.7)\n",
            "Requirement already satisfied: python-dateutil>=2.1 in /usr/local/lib/python3.7/dist-packages (from matplotlib->pysurvival) (2.8.1)\n",
            "Requirement already satisfied: kiwisolver>=1.0.1 in /usr/local/lib/python3.7/dist-packages (from matplotlib->pysurvival) (1.3.1)\n",
            "Requirement already satisfied: pytz>=2017.2 in /usr/local/lib/python3.7/dist-packages (from pandas->pysurvival) (2018.9)\n",
            "Requirement already satisfied: joblib>=0.11 in /usr/local/lib/python3.7/dist-packages (from scikit-learn->pysurvival) (1.0.1)\n",
            "Requirement already satisfied: typing-extensions in /usr/local/lib/python3.7/dist-packages (from torch->pysurvival) (3.7.4.3)\n",
            "Requirement already satisfied: six in /usr/local/lib/python3.7/dist-packages (from cycler>=0.10->matplotlib->pysurvival) (1.15.0)\n",
            "Building wheels for collected packages: pysurvival, progressbar\n",
            "  Building wheel for pysurvival (setup.py) ... \u001b[?25l\u001b[?25hdone\n",
            "  Created wheel for pysurvival: filename=pysurvival-0.1.2-cp37-cp37m-linux_x86_64.whl size=3773001 sha256=61a2454685f8278631022d084fd10ce3fe61741d3348293548398d0cc8a75b0e\n",
            "  Stored in directory: /root/.cache/pip/wheels/6c/23/e8/6feb0c4432219666bdd5d33828d7d9f429c4726f34c6fa8061\n",
            "  Building wheel for progressbar (setup.py) ... \u001b[?25l\u001b[?25hdone\n",
            "  Created wheel for progressbar: filename=progressbar-2.5-cp37-none-any.whl size=12083 sha256=e89dce72ec78f7a2839a74fa988b9e139521b87775e8a619df7c541f4dd70c30\n",
            "  Stored in directory: /root/.cache/pip/wheels/c0/e9/6b/ea01090205e285175842339aa3b491adeb4015206cda272ff0\n",
            "Successfully built pysurvival progressbar\n",
            "Installing collected packages: progressbar, pysurvival\n",
            "Successfully installed progressbar-2.5 pysurvival-0.1.2\n"
          ],
          "name": "stdout"
        }
      ]
    },
    {
      "cell_type": "code",
      "metadata": {
        "colab": {
          "base_uri": "https://localhost:8080/"
        },
        "id": "UGDL95MovwUT",
        "outputId": "9a30e858-4d4d-4809-9e94-a12c5d1070f3"
      },
      "source": [
        "pip install lifelines"
      ],
      "id": "UGDL95MovwUT",
      "execution_count": null,
      "outputs": [
        {
          "output_type": "stream",
          "text": [
            "Collecting lifelines\n",
            "\u001b[?25l  Downloading https://files.pythonhosted.org/packages/50/ba/d010b22c8bcdfe3bbba753bd976f5deddfa4ec1c842b991579e9c2c3cd61/lifelines-0.26.0-py3-none-any.whl (348kB)\n",
            "\r\u001b[K     |█                               | 10kB 15.1MB/s eta 0:00:01\r\u001b[K     |█▉                              | 20kB 12.3MB/s eta 0:00:01\r\u001b[K     |██▉                             | 30kB 6.8MB/s eta 0:00:01\r\u001b[K     |███▊                            | 40kB 5.1MB/s eta 0:00:01\r\u001b[K     |████▊                           | 51kB 3.2MB/s eta 0:00:01\r\u001b[K     |█████▋                          | 61kB 3.7MB/s eta 0:00:01\r\u001b[K     |██████▋                         | 71kB 4.0MB/s eta 0:00:01\r\u001b[K     |███████▌                        | 81kB 4.2MB/s eta 0:00:01\r\u001b[K     |████████▌                       | 92kB 4.3MB/s eta 0:00:01\r\u001b[K     |█████████▍                      | 102kB 3.2MB/s eta 0:00:01\r\u001b[K     |██████████▍                     | 112kB 3.2MB/s eta 0:00:01\r\u001b[K     |███████████▎                    | 122kB 3.2MB/s eta 0:00:01\r\u001b[K     |████████████▎                   | 133kB 3.2MB/s eta 0:00:01\r\u001b[K     |█████████████▏                  | 143kB 3.2MB/s eta 0:00:01\r\u001b[K     |██████████████▏                 | 153kB 3.2MB/s eta 0:00:01\r\u001b[K     |███████████████                 | 163kB 3.2MB/s eta 0:00:01\r\u001b[K     |████████████████                | 174kB 3.2MB/s eta 0:00:01\r\u001b[K     |█████████████████               | 184kB 3.2MB/s eta 0:00:01\r\u001b[K     |█████████████████▉              | 194kB 3.2MB/s eta 0:00:01\r\u001b[K     |██████████████████▉             | 204kB 3.2MB/s eta 0:00:01\r\u001b[K     |███████████████████▊            | 215kB 3.2MB/s eta 0:00:01\r\u001b[K     |████████████████████▊           | 225kB 3.2MB/s eta 0:00:01\r\u001b[K     |█████████████████████▋          | 235kB 3.2MB/s eta 0:00:01\r\u001b[K     |██████████████████████▋         | 245kB 3.2MB/s eta 0:00:01\r\u001b[K     |███████████████████████▌        | 256kB 3.2MB/s eta 0:00:01\r\u001b[K     |████████████████████████▌       | 266kB 3.2MB/s eta 0:00:01\r\u001b[K     |█████████████████████████▍      | 276kB 3.2MB/s eta 0:00:01\r\u001b[K     |██████████████████████████▍     | 286kB 3.2MB/s eta 0:00:01\r\u001b[K     |███████████████████████████▎    | 296kB 3.2MB/s eta 0:00:01\r\u001b[K     |████████████████████████████▎   | 307kB 3.2MB/s eta 0:00:01\r\u001b[K     |█████████████████████████████▏  | 317kB 3.2MB/s eta 0:00:01\r\u001b[K     |██████████████████████████████▏ | 327kB 3.2MB/s eta 0:00:01\r\u001b[K     |███████████████████████████████ | 337kB 3.2MB/s eta 0:00:01\r\u001b[K     |████████████████████████████████| 348kB 3.2MB/s eta 0:00:01\r\u001b[K     |████████████████████████████████| 358kB 3.2MB/s \n",
            "\u001b[?25hRequirement already satisfied: autograd>=1.3 in /usr/local/lib/python3.7/dist-packages (from lifelines) (1.3)\n",
            "Requirement already satisfied: matplotlib>=3.0 in /usr/local/lib/python3.7/dist-packages (from lifelines) (3.2.2)\n",
            "Requirement already satisfied: scipy>=1.2.0 in /usr/local/lib/python3.7/dist-packages (from lifelines) (1.4.1)\n",
            "Requirement already satisfied: numpy>=1.14.0 in /usr/local/lib/python3.7/dist-packages (from lifelines) (1.19.5)\n",
            "Collecting autograd-gamma>=0.3\n",
            "  Downloading https://files.pythonhosted.org/packages/85/ae/7f2031ea76140444b2453fa139041e5afd4a09fc5300cfefeb1103291f80/autograd-gamma-0.5.0.tar.gz\n",
            "Collecting formulaic<0.3,>=0.2.2\n",
            "\u001b[?25l  Downloading https://files.pythonhosted.org/packages/02/64/6702b5cadc89ece93af2e01996504f3a895196354a35713e2ef22f089d3e/formulaic-0.2.3-py3-none-any.whl (55kB)\n",
            "\u001b[K     |████████████████████████████████| 61kB 4.3MB/s \n",
            "\u001b[?25hRequirement already satisfied: pandas>=0.23.0 in /usr/local/lib/python3.7/dist-packages (from lifelines) (1.1.5)\n",
            "Requirement already satisfied: future>=0.15.2 in /usr/local/lib/python3.7/dist-packages (from autograd>=1.3->lifelines) (0.16.0)\n",
            "Requirement already satisfied: pyparsing!=2.0.4,!=2.1.2,!=2.1.6,>=2.0.1 in /usr/local/lib/python3.7/dist-packages (from matplotlib>=3.0->lifelines) (2.4.7)\n",
            "Requirement already satisfied: kiwisolver>=1.0.1 in /usr/local/lib/python3.7/dist-packages (from matplotlib>=3.0->lifelines) (1.3.1)\n",
            "Requirement already satisfied: cycler>=0.10 in /usr/local/lib/python3.7/dist-packages (from matplotlib>=3.0->lifelines) (0.10.0)\n",
            "Requirement already satisfied: python-dateutil>=2.1 in /usr/local/lib/python3.7/dist-packages (from matplotlib>=3.0->lifelines) (2.8.1)\n",
            "Collecting interface-meta>=1.2\n",
            "  Downloading https://files.pythonhosted.org/packages/71/31/5e474208f5df9012ebecfaa23884b14f93671ea4f4f6d468eb096b73e499/interface_meta-1.2.3-py2.py3-none-any.whl\n",
            "Requirement already satisfied: astor in /usr/local/lib/python3.7/dist-packages (from formulaic<0.3,>=0.2.2->lifelines) (0.8.1)\n",
            "Requirement already satisfied: wrapt in /usr/local/lib/python3.7/dist-packages (from formulaic<0.3,>=0.2.2->lifelines) (1.12.1)\n",
            "Requirement already satisfied: pytz>=2017.2 in /usr/local/lib/python3.7/dist-packages (from pandas>=0.23.0->lifelines) (2018.9)\n",
            "Requirement already satisfied: six in /usr/local/lib/python3.7/dist-packages (from cycler>=0.10->matplotlib>=3.0->lifelines) (1.15.0)\n",
            "Building wheels for collected packages: autograd-gamma\n",
            "  Building wheel for autograd-gamma (setup.py) ... \u001b[?25l\u001b[?25hdone\n",
            "  Created wheel for autograd-gamma: filename=autograd_gamma-0.5.0-cp37-none-any.whl size=4050 sha256=8dde0fc3c5ec620eae99aec2232eb9dd3f391ab38ace3d4f4097a0f8674f0b09\n",
            "  Stored in directory: /root/.cache/pip/wheels/dc/68/dc/91321c55fba449755524481854f5be70d41912b8f886f908bb\n",
            "Successfully built autograd-gamma\n",
            "Installing collected packages: autograd-gamma, interface-meta, formulaic, lifelines\n",
            "Successfully installed autograd-gamma-0.5.0 formulaic-0.2.3 interface-meta-1.2.3 lifelines-0.26.0\n"
          ],
          "name": "stdout"
        }
      ]
    },
    {
      "cell_type": "markdown",
      "metadata": {
        "id": "7ffd4657"
      },
      "source": [
        "# Use Random survival forest and do performance eval on simulated data"
      ],
      "id": "7ffd4657"
    },
    {
      "cell_type": "code",
      "metadata": {
        "id": "B6kr19K9VrcE"
      },
      "source": [
        "from pysurvival.models.survival_forest import RandomSurvivalForestModel\n",
        "from pysurvival.utils.metrics import concordance_index\n",
        "from sklearn.model_selection import train_test_split\n",
        "from lifelines import KaplanMeierFitter\n",
        "import matplotlib.pyplot as plt\n",
        "import numpy as np\n",
        "from lifelines import CoxPHFitter"
      ],
      "id": "B6kr19K9VrcE",
      "execution_count": null,
      "outputs": []
    },
    {
      "cell_type": "code",
      "metadata": {
        "id": "T2xxtKQir5xx"
      },
      "source": [
        "# Building training and testing sets #\n",
        "features = ['x_1', 'x_2', 'x_3', 'x_4', 'x_5', 'x_6','x_7', 'x_8', 'x_9', 'x_10']\n",
        "index_train, index_test = train_test_split( range(len(dataset)), test_size = 0.2)\n",
        "data_train = dataset.loc[index_train].reset_index( drop = True )\n",
        "data_test  = dataset.loc[index_test].reset_index( drop = True )\n",
        "# Creating the X, T and E input\n",
        "X_train, X_test = data_train[features], data_test[features]\n",
        "T_train, T_test = data_train['time'].values, data_test['time'].values\n",
        "E_train, E_test = data_train['event'].values, data_test['event'].values"
      ],
      "id": "T2xxtKQir5xx",
      "execution_count": null,
      "outputs": []
    },
    {
      "cell_type": "code",
      "metadata": {
        "colab": {
          "base_uri": "https://localhost:8080/"
        },
        "id": "OuYYl23fsmyv",
        "outputId": "31138fac-5c04-49b4-87f8-54a14b6233c9"
      },
      "source": [
        "# Creating an instance of the Conditional model and fitting the data.\n",
        "# Building the model\n",
        "rsf = RandomSurvivalForestModel(num_trees=200)\n",
        "rsf.fit(X_train, T_train, E_train,\n",
        "        max_features=\"sqrt\", max_depth=5, min_node_size=20)"
      ],
      "id": "OuYYl23fsmyv",
      "execution_count": null,
      "outputs": [
        {
          "output_type": "execute_result",
          "data": {
            "text/plain": [
              "RandomSurvivalForestModel"
            ]
          },
          "metadata": {
            "tags": []
          },
          "execution_count": 19
        }
      ]
    },
    {
      "cell_type": "code",
      "metadata": {
        "colab": {
          "base_uri": "https://localhost:8080/",
          "height": 410
        },
        "id": "AjaDCrMhstrZ",
        "outputId": "5abf1fe4-4caf-48d3-93ac-a497d2814feb"
      },
      "source": [
        "# Model Performances\n",
        "c_index = concordance_index(rsf, X_test, T_test, E_test) \n",
        "print('C-index: {:.2f}'.format(c_index))\n",
        "\n",
        "ibs = integrated_brier_score(rsf, X_test, T_test, E_test, t_max=30,\n",
        "            figure_size=(20, 6.5) )\n",
        "print('IBS: {:.2f}'.format(ibs))"
      ],
      "id": "AjaDCrMhstrZ",
      "execution_count": null,
      "outputs": [
        {
          "output_type": "stream",
          "text": [
            "C-index: 0.79\n"
          ],
          "name": "stdout"
        },
        {
          "output_type": "display_data",
          "data": {
            "image/png": "[encoded data removed]",
            "text/plain": [
              "<Figure size 1440x468 with 1 Axes>"
            ]
          },
          "metadata": {
            "tags": [],
            "needs_background": "light"
          }
        },
        {
          "output_type": "stream",
          "text": [
            "IBS: 0.08\n"
          ],
          "name": "stdout"
        }
      ]
    },
    {
      "cell_type": "markdown",
      "metadata": {
        "id": "Dsyn0mRj8SiM"
      },
      "source": [
        "There is few average squared distances between the real survival status and the predicted survival probability."
      ],
      "id": "Dsyn0mRj8SiM"
    },
    {
      "cell_type": "code",
      "metadata": {
        "colab": {
          "base_uri": "https://localhost:8080/"
        },
        "id": "_jJh4zJ1tU2_",
        "outputId": "42c10c2d-1449-439b-80f9-c8fe811d017a"
      },
      "source": [
        "# importance of each feature (the higher, the more important the feature is)\n",
        "rsf.variable_importance"
      ],
      "id": "_jJh4zJ1tU2_",
      "execution_count": null,
      "outputs": [
        {
          "output_type": "execute_result",
          "data": {
            "text/plain": [
              "{'x_1': 14.675974035835994,\n",
              " 'x_10': 19.2224379748396,\n",
              " 'x_2': 10.052471032717966,\n",
              " 'x_3': 21.30334363017534,\n",
              " 'x_4': 9.964859795340452,\n",
              " 'x_5': 17.292089523707983,\n",
              " 'x_6': 12.57424803022011,\n",
              " 'x_7': 10.252355912352945,\n",
              " 'x_8': 11.544660447493259,\n",
              " 'x_9': 13.490742560998074}"
            ]
          },
          "metadata": {
            "tags": []
          },
          "execution_count": 21
        }
      ]
    },
    {
      "cell_type": "markdown",
      "metadata": {
        "id": "lQesb8m0dunN"
      },
      "source": [
        "Here, x_3 and x_10 are the two most important features. One can decide the involvement of features by evaluating the feature importance."
      ],
      "id": "lQesb8m0dunN"
    },
    {
      "cell_type": "code",
      "metadata": {
        "id": "nadbm3EjvI1q"
      },
      "source": [
        "# Generate risk score as the new feature on both discovery and validation sets\n",
        "risk_score_train = rsf.predict_risk(X_train)\n",
        "risk_score_test = rsf.predict_risk(X_test)"
      ],
      "id": "nadbm3EjvI1q",
      "execution_count": null,
      "outputs": []
    },
    {
      "cell_type": "code",
      "metadata": {
        "id": "fee6f2b9",
        "colab": {
          "base_uri": "https://localhost:8080/",
          "height": 446
        },
        "outputId": "0771959f-5ee1-4039-f3eb-e39a1e6a37b2"
      },
      "source": [
        "# Use mean value in the discovery set as the cut-off value and divide subjects into two groups\n",
        "cutoff_value = risk_score_train.mean()\n",
        "upper = risk_score_train>cutoff_value\n",
        "T_upper_train = data_train['time'][upper]\n",
        "E_upper_train = data_train['event'][upper]\n",
        "lower = risk_score_train<=cutoff_value\n",
        "T_lower_train = data_train['time'][lower]\n",
        "E_lower_train = data_train['event'][lower]\n",
        "# Initializing the KaplanMeierModel for each group\n",
        "km_upper = KaplanMeierFitter()\n",
        "km_lower = KaplanMeierFitter()\n",
        "\n",
        "# Fitting the model \n",
        "T = data_train['time'].values\n",
        "E = data_train['event'].values\n",
        "ax = plt.subplot(111)\n",
        "ax = km_upper.fit(T_upper_train, event_observed=E_upper_train, label = 'Upper').plot_survival_function(ax=ax)\n",
        "ax = km_lower.fit(T_lower_train, event_observed=E_lower_train, label = 'Lower').plot_survival_function(ax=ax)\n",
        "\n",
        "from lifelines.plotting import add_at_risk_counts\n",
        "add_at_risk_counts(km_upper, km_lower, ax=ax)\n",
        "plt.title('Kaplan-Meier estimate')\n",
        "plt.ylabel('Survival probability')\n",
        "plt.show()\n",
        "plt.tight_layout()"
      ],
      "id": "fee6f2b9",
      "execution_count": null,
      "outputs": [
        {
          "output_type": "display_data",
          "data": {
            "image/png": "[encoded data removed]",
            "text/plain": [
              "<Figure size 432x288 with 2 Axes>"
            ]
          },
          "metadata": {
            "tags": [],
            "needs_background": "light"
          }
        },
        {
          "output_type": "display_data",
          "data": {
            "text/plain": [
              "<Figure size 432x288 with 0 Axes>"
            ]
          },
          "metadata": {
            "tags": []
          }
        }
      ]
    },
    {
      "cell_type": "code",
      "metadata": {
        "id": "d8ee513b",
        "colab": {
          "base_uri": "https://localhost:8080/"
        },
        "outputId": "72cb583c-1a00-479d-ccdb-174a30234d0e"
      },
      "source": [
        "# Log-rank test: if there is any significant difference between the groups being compared\n",
        "from lifelines.statistics import logrank_test\n",
        "results = logrank_test(T_lower_train, T_upper_train, E_lower_train, E_upper_train)\n",
        "# print metrics\n",
        "print(\"p-value on the discovery set %s; log-rank %s\" % (results.p_value, np.round(results.test_statistic, 6)))"
      ],
      "id": "d8ee513b",
      "execution_count": null,
      "outputs": [
        {
          "output_type": "stream",
          "text": [
            "p-value on the discovery set 1.542635796823874e-115; log-rank 522.014495\n"
          ],
          "name": "stdout"
        }
      ]
    },
    {
      "cell_type": "code",
      "metadata": {
        "id": "455b6b38",
        "colab": {
          "base_uri": "https://localhost:8080/",
          "height": 446
        },
        "outputId": "b96a4588-836d-4653-f983-f1c0007972fd"
      },
      "source": [
        "# Use mean value in the discovery set as the cut-off value and divide subjects int the validation set into two groups\n",
        "upper = risk_score_test>cutoff_value\n",
        "T_upper_test = data_test['time'][upper]\n",
        "E_upper_test = data_test['event'][upper]\n",
        "lower = risk_score_test<=cutoff_value\n",
        "T_lower_test = data_test['time'][lower]\n",
        "E_lower_test = data_test['event'][lower]\n",
        "# Initializing the KaplanMeierModel for each group\n",
        "km_upper = KaplanMeierFitter()\n",
        "km_lower = KaplanMeierFitter()\n",
        "\n",
        "# Fitting the model \n",
        "T = data_test['time'].values\n",
        "E = data_test['event'].values\n",
        "ax = plt.subplot(111)\n",
        "ax = km_upper.fit(T_upper_test, event_observed=E_upper_test, label = 'Upper').plot_survival_function(ax=ax)\n",
        "ax = km_lower.fit(T_lower_test, event_observed=E_lower_test, label = 'Lower').plot_survival_function(ax=ax)\n",
        "\n",
        "from lifelines.plotting import add_at_risk_counts\n",
        "add_at_risk_counts(km_upper, km_lower, ax=ax)\n",
        "plt.title('Kaplan-Meier estimate')\n",
        "plt.ylabel('Survival probability')\n",
        "plt.show()\n",
        "plt.tight_layout()"
      ],
      "id": "455b6b38",
      "execution_count": null,
      "outputs": [
        {
          "output_type": "display_data",
          "data": {
            "image/png": "[encoded data removed]",
            "text/plain": [
              "<Figure size 432x288 with 2 Axes>"
            ]
          },
          "metadata": {
            "tags": [],
            "needs_background": "light"
          }
        },
        {
          "output_type": "display_data",
          "data": {
            "text/plain": [
              "<Figure size 432x288 with 0 Axes>"
            ]
          },
          "metadata": {
            "tags": []
          }
        }
      ]
    },
    {
      "cell_type": "code",
      "metadata": {
        "id": "604f8628",
        "colab": {
          "base_uri": "https://localhost:8080/"
        },
        "outputId": "42d72c2f-060b-44c3-8861-157e0e6d40f2"
      },
      "source": [
        "# Log-rank test: if there is any significant difference between the groups being compared\n",
        "results = logrank_test(T_lower_test, T_upper_test, E_lower_test, E_upper_test)\n",
        "# print metrics\n",
        "print(\"p-value on the validation set %s; log-rank %s\" % (results.p_value, np.round(results.test_statistic, 6)))"
      ],
      "id": "604f8628",
      "execution_count": null,
      "outputs": [
        {
          "output_type": "stream",
          "text": [
            "p-value on the validation set 3.026767875049921e-17; log-rank 71.326927\n"
          ],
          "name": "stdout"
        }
      ]
    },
    {
      "cell_type": "code",
      "metadata": {
        "id": "62946557",
        "colab": {
          "base_uri": "https://localhost:8080/"
        },
        "outputId": "40c5a55a-7a1d-4879-af6a-86b17fe15141"
      },
      "source": [
        "from lifelines.utils import concordance_index\n",
        "data_test['rsf_risk'] = risk_score_test\n",
        "data_test = data_test[[ 'rsf_risk', 'time', 'event']]\n",
        "cph = CoxPHFitter().fit(data_test, 'time', 'event')\n",
        "cindex = concordance_index(data_test['time'], -cph.predict_partial_hazard(data_test), data_test['event'])\n",
        "# print metrics\n",
        "print(\"c-index on the validation set %s\" % (cindex))"
      ],
      "id": "62946557",
      "execution_count": null,
      "outputs": [
        {
          "output_type": "stream",
          "text": [
            "c-index on the validation set 0.8020131129374827\n"
          ],
          "name": "stdout"
        }
      ]
    },
    {
      "cell_type": "markdown",
      "metadata": {
        "id": "d3646a8a"
      },
      "source": [
        "The risk score feature is shown significant in both discovery and validation cohorts. (p-value< 0.005 and c-index around 0.80)"
      ],
      "id": "d3646a8a"
    },
    {
      "cell_type": "markdown",
      "metadata": {
        "id": "cYp6CZKR1r5Q"
      },
      "source": [
        "# Use Survival SVM and do performance eval on simulated data"
      ],
      "id": "cYp6CZKR1r5Q"
    },
    {
      "cell_type": "code",
      "metadata": {
        "id": "8a0f8f99",
        "colab": {
          "base_uri": "https://localhost:8080/"
        },
        "outputId": "dcfdd928-e809-4c94-c375-e64ce35e4f1b"
      },
      "source": [
        "# Creating an instance of the SurvivalSVM model and fitting the data.\n",
        "from pysurvival.models.svm import KernelSVMModel\n",
        "from pysurvival.utils.metrics import concordance_index\n",
        "\n",
        "svm_model = KernelSVMModel(kernel='Gaussian', scale=0.25)\n",
        "svm_model.fit(X_train, T_train, E_train, init_method='orthogonal',\n",
        "    with_bias = True, lr = 0.8,  tol = 1e-3,  l2_reg = 1e-4)"
      ],
      "id": "8a0f8f99",
      "execution_count": null,
      "outputs": [
        {
          "output_type": "stream",
          "text": [
            "Performing Newton-Raphson optimization: \n",
            " * Iteration #1 - Loss = 12.262 - ||grad||^2 = 455.33887 - ||diff_w|| = 21.79978\n",
            " * Iteration #2 - Loss = 7.767 - ||grad||^2 = 90.84894 - ||diff_w|| = 3.92512\n",
            " * Iteration #3 - Loss = 7.618 - ||grad||^2 = 22.85359 - ||diff_w|| = 1.10772\n",
            " * Iteration #4 - Loss = 7.618 - ||grad||^2 = 5.07884 - ||diff_w|| = 0.31612\n",
            " * Iteration #5 - Loss = 7.620 - ||grad||^2 = 1.11775 - ||diff_w|| = 0.09079\n",
            " * Iteration #6 - Loss = 7.621 - ||grad||^2 = 0.26692 - ||diff_w|| = 0.02618\n",
            " * Iteration #7 - Loss = 7.621 - ||grad||^2 = 0.06238 - ||diff_w|| = 0.00768\n",
            " * Iteration #8 - Loss = 7.621 - ||grad||^2 = 0.01747 - ||diff_w|| = 0.00215\n",
            " * Iteration #9 - Loss = 7.621 - ||grad||^2 = 0.00489 - ||diff_w|| = 0.00060\n",
            " * Iteration #10 - Loss = 7.621 - ||grad||^2 = 0.00137 - ||diff_w|| = 0.00017\n",
            " * Iteration #11 - Loss = 7.621 - ||grad||^2 = 0.00038 - ||diff_w|| = 0.00005\n",
            "Converged after 11 iterations.\n"
          ],
          "name": "stdout"
        },
        {
          "output_type": "execute_result",
          "data": {
            "text/plain": [
              "KernelSVMModel"
            ]
          },
          "metadata": {
            "tags": []
          },
          "execution_count": 45
        }
      ]
    },
    {
      "cell_type": "code",
      "metadata": {
        "colab": {
          "base_uri": "https://localhost:8080/"
        },
        "id": "OprNP5M42nzr",
        "outputId": "d5b16d52-2a5d-4805-9712-84c99dd050e6"
      },
      "source": [
        "# Model Performances\n",
        "c_index = concordance_index(svm_model, X_test, T_test, E_test) \n",
        "print('C-index: {:.2f}'.format(c_index))"
      ],
      "id": "OprNP5M42nzr",
      "execution_count": null,
      "outputs": [
        {
          "output_type": "stream",
          "text": [
            "C-index: 0.82\n"
          ],
          "name": "stdout"
        }
      ]
    },
    {
      "cell_type": "code",
      "metadata": {
        "id": "pG16lbCr3Fcf"
      },
      "source": [
        "# Generate risk score \n",
        "svm_risk_score_train = svm_model.predict_risk(X_train)\n",
        "svm_risk_score_test = svm_model.predict_risk(X_test)"
      ],
      "id": "pG16lbCr3Fcf",
      "execution_count": null,
      "outputs": []
    },
    {
      "cell_type": "markdown",
      "metadata": {
        "id": "Db5m_cjcdGd0"
      },
      "source": [
        "As mentioned in Random survival forest, here you can generate risk score fitted by Survival SVM as a new feature for survival analysis."
      ],
      "id": "Db5m_cjcdGd0"
    }
  ]
}